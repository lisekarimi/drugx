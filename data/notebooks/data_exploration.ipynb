{
 "cells": [
  {
   "cell_type": "markdown",
   "id": "6a88f60d-3d82-4367-b964-5ded002902e0",
   "metadata": {},
   "source": [
    "# 🧪 EDA of DDInter Dataset\n",
    "\n",
    "For the **DrugX** project, we are using the [DDInter drug–drug interaction database](https://ddinter.scbdd.com/) as part of our workflow to build the app.\n",
    "Before processing and using this data, we need to **understand it first**.\n",
    "\n",
    "That means:\n",
    "\n",
    "* 👀 Visualizing the dataset\n",
    "* 🔍 Checking for missing values\n",
    "* 🔁 Identifying duplicates\n",
    "* 📊 Exploring the structure and quality\n",
    "\n",
    "In short: understanding the data is the first step before doing anything else.\n",
    "\n",
    "💻 No GPU required.\n",
    "\n",
    "▶️ To run this notebook: `make nb`\n",
    "\n",
    "At the end, a **summary of findings** is delivered to guide the next steps."
   ]
  },
  {
   "cell_type": "code",
   "execution_count": 1,
   "id": "4ea55465-2194-44a4-b290-6847a3a24f51",
   "metadata": {},
   "outputs": [],
   "source": [
    "import pandas as pd, numpy as np\n",
    "import matplotlib.pyplot as plt"
   ]
  },
  {
   "cell_type": "code",
   "execution_count": 2,
   "id": "21086023-6208-4256-a249-461effaa0bf9",
   "metadata": {},
   "outputs": [
    {
     "data": {
      "text/html": [
       "<div>\n",
       "<style scoped>\n",
       "    .dataframe tbody tr th:only-of-type {\n",
       "        vertical-align: middle;\n",
       "    }\n",
       "\n",
       "    .dataframe tbody tr th {\n",
       "        vertical-align: top;\n",
       "    }\n",
       "\n",
       "    .dataframe thead th {\n",
       "        text-align: right;\n",
       "    }\n",
       "</style>\n",
       "<table border=\"1\" class=\"dataframe\">\n",
       "  <thead>\n",
       "    <tr style=\"text-align: right;\">\n",
       "      <th></th>\n",
       "      <th>DDInterID_A</th>\n",
       "      <th>Drug_A</th>\n",
       "      <th>DDInterID_B</th>\n",
       "      <th>Drug_B</th>\n",
       "      <th>Level</th>\n",
       "      <th>category</th>\n",
       "    </tr>\n",
       "  </thead>\n",
       "  <tbody>\n",
       "    <tr>\n",
       "      <th>0</th>\n",
       "      <td>DDInter1263</td>\n",
       "      <td>Naltrexone</td>\n",
       "      <td>DDInter1</td>\n",
       "      <td>Abacavir</td>\n",
       "      <td>Moderate</td>\n",
       "      <td>A</td>\n",
       "    </tr>\n",
       "    <tr>\n",
       "      <th>1</th>\n",
       "      <td>DDInter1</td>\n",
       "      <td>Abacavir</td>\n",
       "      <td>DDInter1348</td>\n",
       "      <td>Orlistat</td>\n",
       "      <td>Moderate</td>\n",
       "      <td>A</td>\n",
       "    </tr>\n",
       "    <tr>\n",
       "      <th>2</th>\n",
       "      <td>DDInter58</td>\n",
       "      <td>Aluminum hydroxide</td>\n",
       "      <td>DDInter582</td>\n",
       "      <td>Dolutegravir</td>\n",
       "      <td>Major</td>\n",
       "      <td>A</td>\n",
       "    </tr>\n",
       "    <tr>\n",
       "      <th>3</th>\n",
       "      <td>DDInter112</td>\n",
       "      <td>Aprepitant</td>\n",
       "      <td>DDInter582</td>\n",
       "      <td>Dolutegravir</td>\n",
       "      <td>Minor</td>\n",
       "      <td>A</td>\n",
       "    </tr>\n",
       "    <tr>\n",
       "      <th>4</th>\n",
       "      <td>DDInter138</td>\n",
       "      <td>Attapulgite</td>\n",
       "      <td>DDInter582</td>\n",
       "      <td>Dolutegravir</td>\n",
       "      <td>Major</td>\n",
       "      <td>A</td>\n",
       "    </tr>\n",
       "  </tbody>\n",
       "</table>\n",
       "</div>"
      ],
      "text/plain": [
       "   DDInterID_A              Drug_A  DDInterID_B        Drug_B     Level  \\\n",
       "0  DDInter1263          Naltrexone     DDInter1      Abacavir  Moderate   \n",
       "1     DDInter1            Abacavir  DDInter1348      Orlistat  Moderate   \n",
       "2    DDInter58  Aluminum hydroxide   DDInter582  Dolutegravir     Major   \n",
       "3   DDInter112          Aprepitant   DDInter582  Dolutegravir     Minor   \n",
       "4   DDInter138         Attapulgite   DDInter582  Dolutegravir     Major   \n",
       "\n",
       "  category  \n",
       "0        A  \n",
       "1        A  \n",
       "2        A  \n",
       "3        A  \n",
       "4        A  "
      ]
     },
     "execution_count": 2,
     "metadata": {},
     "output_type": "execute_result"
    }
   ],
   "source": [
    "# Load the CSV\n",
    "df = pd.read_csv(\"../ddinter_all.csv\")\n",
    "\n",
    "# Show the first few rows\n",
    "df.head()"
   ]
  },
  {
   "cell_type": "code",
   "execution_count": 3,
   "id": "e5e27a11-8ce6-4b21-985c-72574bbdedf2",
   "metadata": {},
   "outputs": [
    {
     "data": {
      "text/plain": [
       "(222383, 6)"
      ]
     },
     "execution_count": 3,
     "metadata": {},
     "output_type": "execute_result"
    }
   ],
   "source": [
    "df.shape"
   ]
  },
  {
   "cell_type": "code",
   "execution_count": 4,
   "id": "dde9de34-28ba-4e43-9975-fed04a032259",
   "metadata": {},
   "outputs": [
    {
     "data": {
      "text/plain": [
       "(DDInterID_A    0\n",
       " Drug_A         0\n",
       " DDInterID_B    0\n",
       " Drug_B         0\n",
       " Level          0\n",
       " category       0\n",
       " dtype: int64,\n",
       " DDInterID_A    0\n",
       " Drug_A         0\n",
       " DDInterID_B    0\n",
       " Drug_B         0\n",
       " Level          0\n",
       " category       0\n",
       " dtype: int64)"
      ]
     },
     "execution_count": 4,
     "metadata": {},
     "output_type": "execute_result"
    }
   ],
   "source": [
    "df.isna().sum(), df.eq(\"\").sum()"
   ]
  },
  {
   "cell_type": "code",
   "execution_count": 5,
   "id": "c8cc4684-26a0-43e7-ba37-03fd80ef7499",
   "metadata": {},
   "outputs": [
    {
     "data": {
      "image/png": "[encoded data removed]",
      "text/plain": [
       "<Figure size 600x400 with 1 Axes>"
      ]
     },
     "metadata": {},
     "output_type": "display_data"
    },
    {
     "name": "stdout",
     "output_type": "stream",
     "text": [
      "Level\n",
      "Moderate    130367\n",
      "Unknown      47182\n",
      "Major        33896\n",
      "Minor        10938\n",
      "Name: count, dtype: int64\n"
     ]
    }
   ],
   "source": [
    "# Count severity distribution\n",
    "severity_counts = df[\"Level\"].value_counts()\n",
    "\n",
    "# Plot\n",
    "plt.figure(figsize=(6, 4))\n",
    "severity_counts.plot(kind=\"bar\", color=[\"green\", \"orange\", \"red\", \"gray\"])\n",
    "plt.title(\"Distribution of Severity Levels\")\n",
    "plt.xlabel(\"Severity\")\n",
    "plt.ylabel(\"Count\")\n",
    "plt.xticks(rotation=0)\n",
    "plt.show()\n",
    "\n",
    "print(severity_counts)"
   ]
  },
  {
   "cell_type": "code",
   "execution_count": 6,
   "id": "45830ce5-d2a9-40fa-929d-60f654d86859",
   "metadata": {},
   "outputs": [
    {
     "data": {
      "text/plain": [
       "category_desc\n",
       "Antineoplastic & immunomodulating agents                   65389\n",
       "Alimentary tract & metabolism                              56367\n",
       "Respiratory system                                         30563\n",
       "Dermatologicals                                            25681\n",
       "Blood & blood forming organs                               15140\n",
       "Various                                                    12024\n",
       "Systemic hormonal preps (excl. sex hormones & insulins)    11727\n",
       "Antiparasitic products, insecticides & repellents           5492\n",
       "Name: count, dtype: int64"
      ]
     },
     "execution_count": 6,
     "metadata": {},
     "output_type": "execute_result"
    }
   ],
   "source": [
    "# 7) Map category code → ATC section (A, B, D, H, L, P, R, V)\n",
    "CAT_MAP = {\n",
    "    \"A\": \"Alimentary tract & metabolism\",\n",
    "    \"B\": \"Blood & blood forming organs\",\n",
    "    \"D\": \"Dermatologicals\",\n",
    "    \"H\": \"Systemic hormonal preps (excl. sex hormones & insulins)\",\n",
    "    \"L\": \"Antineoplastic & immunomodulating agents\",\n",
    "    \"P\": \"Antiparasitic products, insecticides & repellents\",\n",
    "    \"R\": \"Respiratory system\",\n",
    "    \"V\": \"Various\",\n",
    "}\n",
    "df[\"category_desc\"] = df[\"category\"].map(CAT_MAP).fillna(\"Unknown\")\n",
    "df[\"category_desc\"].value_counts()"
   ]
  },
  {
   "cell_type": "code",
   "execution_count": 7,
   "id": "f045b5c1-820e-45c2-b349-c0b8aa8fbf5d",
   "metadata": {},
   "outputs": [
    {
     "data": {
      "image/png": "[encoded data removed]",
      "text/plain": [
       "<Figure size 800x500 with 1 Axes>"
      ]
     },
     "metadata": {},
     "output_type": "display_data"
    },
    {
     "name": "stdout",
     "output_type": "stream",
     "text": [
      "category\n",
      "L    65389\n",
      "A    56367\n",
      "R    30563\n",
      "D    25681\n",
      "B    15140\n",
      "V    12024\n",
      "H    11727\n",
      "P     5492\n",
      "Name: count, dtype: int64\n"
     ]
    }
   ],
   "source": [
    "# Count category distribution\n",
    "category_counts = df[\"category\"].value_counts()\n",
    "\n",
    "# Plot\n",
    "plt.figure(figsize=(8, 5))\n",
    "category_counts.plot(kind=\"bar\", color=\"skyblue\")\n",
    "plt.title(\"Distribution of Categories\")\n",
    "plt.xlabel(\"Category\")\n",
    "plt.ylabel(\"Count\")\n",
    "plt.xticks(rotation=0)\n",
    "plt.show()\n",
    "\n",
    "print(category_counts)"
   ]
  },
  {
   "cell_type": "code",
   "execution_count": 8,
   "id": "189500ca-fe18-4efd-90d1-cf4d91aef3d3",
   "metadata": {
    "scrolled": true
   },
   "outputs": [
    {
     "name": "stdout",
     "output_type": "stream",
     "text": [
      "['Calcitriol (topical)' 'Morphine (liposomal)'\n",
      " 'Ranitidine (bismuth citrate)' 'Alclometasone (topical)'\n",
      " 'Diflorasone (topical)' 'Interferon beta-1a' 'Interferon beta-1b'\n",
      " 'Glycopyrronium (topical)' 'Insulin human (inhalation, rapid acting)'\n",
      " 'Insulin human (isophane)' 'Insulin lispro (protamine)'\n",
      " 'Insulin human (regular)' 'Insulin human (zinc)'\n",
      " 'Insulin human (zinc extended)' 'Hydrocortisone (topical)'\n",
      " 'Iobenguane (I-123)' 'Amphotericin B (cholesteryl sulfate)'\n",
      " 'Amphotericin B (lipid complex)' 'Amphotericin B (liposomal)'\n",
      " 'Atropine (ophthalmic)' 'Scopolamine (ophthalmic)'\n",
      " 'Daunorubicin (liposomal)' 'Amikacin (liposome)'\n",
      " 'Salicylic acid (sodium)' 'Epinephrine (ophthalmic)'\n",
      " 'Epinephrine (topical)' 'Ketorolac (ophthalmic)'\n",
      " 'Triamcinolone (ophthalmic)' 'Betaxolol (ophthalmic)'\n",
      " 'Carteolol (ophthalmic)' 'Timolol (ophthalmic)'\n",
      " 'Antihemophilic factor, human recombinant'\n",
      " 'Conjugated estrogens (topical)'\n",
      " 'Lyme disease vaccine (recombinant OspA)' 'Testosterone (topical)'\n",
      " 'Betamethasone (topical)' 'Clocortolone (topical)' 'Desonide (topical)'\n",
      " 'Desoximetasone (topical)' 'Dexamethasone (ophthalmic)'\n",
      " 'Dexamethasone (topical)' 'Dienestrol (topical)' 'Estradiol (topical)'\n",
      " 'Estrone sulfate (topical)' 'Fluocinonide (topical)'\n",
      " 'Flurandrenolide (topical)' 'Halcinonide (topical)'\n",
      " 'Ulobetasol (topical)' 'Insulin aspart (aspart)'\n",
      " 'Insulin aspart (aspart protamine)' 'Methylprednisolone (topical)'\n",
      " 'Prednicarbate (topical)' 'Progesterone (topical)'\n",
      " 'Triamcinolone (topical)' 'Budesonide (nasal)' 'Diclofenac (topical)'\n",
      " 'Lidocaine (topical)' 'Human immunoglobulin G (intravenous)'\n",
      " 'Human immunoglobulin G (intravenous and subcutaneous)'\n",
      " 'Polyethylene glycol (3350 with electrolytes)' 'Doxycycline (topical)'\n",
      " 'Aminolevulinic acid (topical)' 'Tetracycline (topical)'\n",
      " 'Carbamoylcholine (ophthalmic)' 'Ipratropium (nasal)'\n",
      " 'Phenylephrine (ophthalmic)' 'Ephedrine (nasal)'\n",
      " 'Brimonidine (ophthalmic)' 'Brimonidine (topical)' 'Olopatadine (nasal)'\n",
      " 'Prilocaine (topiclal)' 'Antilymphocyte immunoglobulin (horse)'\n",
      " 'Antithymocyte immunoglobulin (rabbit)' 'Polyethylene glycol (3350)'\n",
      " 'Cocaine (nasal)' 'Doxepin (topical)' 'Interferon alfa-2a, Recombinant'\n",
      " 'Interferon alfa-2b' 'Interferon alfa-n1' 'Interferon alfa-n3'\n",
      " 'Interferon alfacon-1' 'Interferon gamma-1b' 'Peginterferon alfa-2a'\n",
      " 'Peginterferon alfa-2b' 'Pimecrolimus (topical)' 'Vincristine (liposome)'\n",
      " 'Dorzolamide (ophthalmic)' 'Flurbiprofen (ophthalmic)'\n",
      " 'Tositumomab (I-131)' 'Diclofenac (ophthalmic)' 'Suprofen (ophthalmic)'\n",
      " 'Azelastine (nasal)' 'Prednisolone (ophthalmic)' 'Triamcinolone (nasal)'\n",
      " 'Dexamethasone (nasal)' 'Benzocaine (topical)' 'Neomycin (topical)'\n",
      " 'Dapsone (topical)' 'Doxorubicin (liposomal)' 'Irinotecan (liposomal)'\n",
      " 'Paclitaxel (protein-bound)' 'Beclomethasone dipropionate (nasal)'\n",
      " \"St. John's Wort\" 'Hydrocortisone (ophthalmic)' 'Calcipotriol (topical)'\n",
      " 'Strontium chloride Sr-89' 'Thyroid, porcine' 'Bromfenac (ophthalmic)'\n",
      " 'Demecarium (ophthalmic)' 'Isoflurophate (ophthalmic)'\n",
      " 'Physostigmine (ophthalmic)' 'Flunisolide (nasal)'\n",
      " 'Fluorometholone (ophthalmic)' 'Loteprednol (ophthalmic)'\n",
      " 'Benzylpenicillin (potassium)' 'Benzylpenicillin (sodium)'\n",
      " 'Peginterferon beta-1a' 'Clobetasol (topical)' 'Cocaine (topical)'\n",
      " 'Fluticasone (topical)' 'Human C1-esterase inhibitor'\n",
      " 'Dinoprostone (topical)' 'Dipivefrin (ophthalmic)'\n",
      " 'Methyl aminolevulinate (topical)' 'Echothiophate (ophthalmic)'\n",
      " 'Lidocaine (ophthalmic)' 'Metronidazole (topical)' 'Miconazole (topical)'\n",
      " 'Proparacaine (ophthalmic)' 'Pegaptanib (ophthalmic)'\n",
      " 'Pilocarpine (ophthalmic)' 'Minoxidil (topical)' 'Manganese (sulfate)'\n",
      " 'Manganese (chloride)' 'Levobunolol (ophthalmic)'\n",
      " 'Metipranolol (ophthalmic)' 'Fludeoxyglucose (18F)'\n",
      " 'Levobetaxolol (ophthalmic)' 'Gentamicin (topical)'\n",
      " 'Oxybuprocaine (ophthalmic)' 'Cinchocaine (topical)'\n",
      " 'Oxymetazoline (ophthalmic)' 'Oxymetazoline (nasal)'\n",
      " 'Oxymetazoline (topical)' 'Phenylephrine (nasal)'\n",
      " 'Phenylephrine (topical)' 'Dextran (-1)'\n",
      " 'Dextran (high molecular weight)' 'Dextran (low molecular weight)'\n",
      " 'Heparin (flush)' 'Omega-3 fatty acids'\n",
      " 'Anti-inhibitor coagulant complex' 'Nepafenac (ophthalmic)'\n",
      " 'Iodide I-123' 'Iodide I-131' 'Retapamulin (topical)'\n",
      " 'Chloramphenicol (ophthalmic)' 'Abametapir (topical)'\n",
      " 'Adapalene (topical)' 'Azelaic acid (topical)' 'Salicylic acid (topical)'\n",
      " 'Tazarotene (topical)' 'Tretinoin (topical)' 'Acyclovir (topical)'\n",
      " 'Alitretinoin (topical)' 'Bexarotene (topical)' 'Bupivacaine (liposome)'\n",
      " 'Tetracaine (ophthalmic)' 'Silver sulfadiazine (topical)'\n",
      " 'Imiquimod (topical)' 'Methoxsalen (topical)' 'Octasulfur (topical)'\n",
      " 'Fluticasone (nasal)' 'Benzoyl peroxide (topical)'\n",
      " 'Clindamycin (topical)' 'Collagenase clostridium histolyticum (topical)'\n",
      " 'Medrysone (ophthalmic)' 'Difluprednate (ophthalmic)'\n",
      " 'Bacillus calmette-guerin substrain tice live antigen' 'Sipuleucel-T'\n",
      " 'Diphenhydramine (topical)' 'Penciclovir (topical)'\n",
      " 'Tetracaine (topical)' 'Sulfacetamide (ophthalmic)'\n",
      " 'Resorcinol (topical)' 'Ivermectin (topical)' 'Iodine (topical)'\n",
      " 'Chloramphenicol (otic)' 'Indium In-111 oxyquinoline'\n",
      " 'Clostridium tetani toxoid antigen (formaldehyde inactivated)'\n",
      " 'Rimexolone (ophthalmic)' 'Hepatitis B Vaccine (Recombinant)'\n",
      " 'Poliovirus type 1 antigen (formaldehyde inactivated)'\n",
      " 'Samarium (153Sm) lexidronam' 'Sodium phosphate, monobasic (p32)'\n",
      " 'Digoxin Immune Fab (Ovine)' 'Iobenguane (I-131)'\n",
      " 'Cytarabine (liposomal)' 'Ciclesonide (nasal)'\n",
      " 'Vibrio cholerae CVD 103-HgR strain live antigen (live)'\n",
      " 'Human immunoglobulin G (subcutaneous)'\n",
      " 'Human immunoglobulin G (intramuscular)'\n",
      " 'Human adenovirus e serotype 4 strain cl-68578 antigen'\n",
      " 'Smallpox (Vaccinia) Vaccine, Live' 'Typhoid vaccine (live)'\n",
      " 'Varicella Zoster Vaccine (Recombinant)'\n",
      " 'Vibrio cholerae CVD 103-HgR strain live antigen'\n",
      " 'Influenza A virus A/California/7/2009 (H1N1)-like antigen (propiolactone inactivated)'\n",
      " 'Typhoid vaccine (inactivated)' 'Naphazoline (ophthalmic)'\n",
      " 'Levmetamfetamine (nasal)' 'Naphazoline (nasal)'\n",
      " 'Propylhexedrine (nasal)' 'Tetryzoline (nasal)'\n",
      " 'Tetryzoline (ophthalmic)' 'Xylometazoline (nasal)'\n",
      " 'Hydroxyamphetamine (ophthalmic)' 'Phenylephrine (otic)'\n",
      " 'Ioflupane I-123' 'Cyclopentolate (ophthalmic)'\n",
      " 'Dextrose, unspecified form' 'Tropicamide (ophthalmic)'\n",
      " 'Gallium chloride Ga-67'\n",
      " 'Influenza A virus A/Vietnam/1194/2004 (H5N1) antigen (formaldehyde inactivated)'\n",
      " 'Pfizer-BioNTech Covid-19 Vaccine'\n",
      " 'Human botulinum neurotoxin A/B immune globulin'\n",
      " 'Human Rho(D) immune globulin' 'Minocycline (topical)'\n",
      " 'Brinzolamide (ophthalmic)' 'Azelastine (ophthalmic)'\n",
      " 'Levomefolic acid (calcium)' 'Sodium phosphate, monobasic'\n",
      " 'Oxyquinoline (topical)' 'gamma-Aminobutyric acid'\n",
      " 'Factor IX Complex (Human)' 'Methyl salicylate (topical)'\n",
      " 'Econazole (topical)' 'Cetylpyridinium (topical)' 'Trifarotene (topical)'\n",
      " 'Silver nitrate (ophthalmic)' 'Silver nitrate (topical)'\n",
      " 'Clioquinol (topical)' 'Silver (topical)' 'Thimerosal (topical)'\n",
      " 'Coal tar (topical)' 'Hexachlorophene (topical)' 'Benzalkonium (topical)'\n",
      " 'Chorionic Gonadotropin (Human)' 'Copper oxodotreotide Cu-64'\n",
      " 'Indium In-111 pentetreotide' 'Factor XIII (human)'\n",
      " 'Homatropine (ophthalmic)' 'Indium In-111 pentetate']\n"
     ]
    }
   ],
   "source": [
    "# checking if any drug names in drug_a or drug_b \n",
    "# contain special characters or symbols instead of clean alphanumeric names\n",
    "unique_nonalpha = pd.unique(\n",
    "    pd.concat([df[\"Drug_A\"], df[\"Drug_B\"]], ignore_index=True)\n",
    "      .loc[lambda s: s.str.contains(r\"[^a-zA-Z0-9 ]\", na=False)]\n",
    ")\n",
    "print(unique_nonalpha)"
   ]
  },
  {
   "cell_type": "markdown",
   "id": "89610d0e-e4fc-4e51-8c40-f5010c548509",
   "metadata": {},
   "source": [
    "Our dataset includes many drug names with extra details (formulations, routes, isotopes, salts), so we need to use LIKE % in SQL to ensure consistent matching in our app."
   ]
  },
  {
   "cell_type": "code",
   "execution_count": 9,
   "id": "77564de6-0732-4b39-8b4c-98cf5073e6ec",
   "metadata": {},
   "outputs": [
    {
     "name": "stdout",
     "output_type": "stream",
     "text": [
      "Number of distinct (A,B) pairs that appear more than once: 43826\n"
     ]
    }
   ],
   "source": [
    "# --- Same-direction duplicates (A→B repeated), ignoring Level/category ---\n",
    "# Count repeats by unique pair\n",
    "pair_counts = df.groupby([\"DDInterID_A\", \"DDInterID_B\"]).size().reset_index(name=\"n\")\n",
    "\n",
    "dupe_pairs = pair_counts[pair_counts[\"n\"] > 1]\n",
    "\n",
    "print(\"Number of distinct (A,B) pairs that appear more than once:\", len(dupe_pairs))"
   ]
  },
  {
   "cell_type": "code",
   "execution_count": 10,
   "id": "02641296-c9a6-44e5-92ba-51bfad54a300",
   "metadata": {},
   "outputs": [
    {
     "name": "stdout",
     "output_type": "stream",
     "text": [
      "Total number of rows belonging to duplicated (A,B) pairs: 105974\n"
     ]
    }
   ],
   "source": [
    "# All rows involved in those duplicate pairs (for inspection)\n",
    "pair_dupe_rows = df.merge(\n",
    "    dupe_pairs[[\"DDInterID_A\", \"DDInterID_B\"]],\n",
    "    on=[\"DDInterID_A\", \"DDInterID_B\"],\n",
    "    how=\"inner\",\n",
    ")\n",
    "print(\"Total number of rows belonging to duplicated (A,B) pairs:\", len(pair_dupe_rows))"
   ]
  },
  {
   "cell_type": "code",
   "execution_count": 11,
   "id": "ff6849c1-4403-4f97-bf35-783de1bd71d9",
   "metadata": {},
   "outputs": [
    {
     "data": {
      "text/html": [
       "<div>\n",
       "<style scoped>\n",
       "    .dataframe tbody tr th:only-of-type {\n",
       "        vertical-align: middle;\n",
       "    }\n",
       "\n",
       "    .dataframe tbody tr th {\n",
       "        vertical-align: top;\n",
       "    }\n",
       "\n",
       "    .dataframe thead th {\n",
       "        text-align: right;\n",
       "    }\n",
       "</style>\n",
       "<table border=\"1\" class=\"dataframe\">\n",
       "  <thead>\n",
       "    <tr style=\"text-align: right;\">\n",
       "      <th></th>\n",
       "      <th>DDInterID_A</th>\n",
       "      <th>DDInterID_B</th>\n",
       "      <th>n</th>\n",
       "    </tr>\n",
       "  </thead>\n",
       "  <tbody>\n",
       "    <tr>\n",
       "      <th>45417</th>\n",
       "      <td>DDInter1513</td>\n",
       "      <td>DDInter1771</td>\n",
       "      <td>6</td>\n",
       "    </tr>\n",
       "    <tr>\n",
       "      <th>10471</th>\n",
       "      <td>DDInter1120</td>\n",
       "      <td>DDInter885</td>\n",
       "      <td>6</td>\n",
       "    </tr>\n",
       "    <tr>\n",
       "      <th>45394</th>\n",
       "      <td>DDInter1513</td>\n",
       "      <td>DDInter1676</td>\n",
       "      <td>6</td>\n",
       "    </tr>\n",
       "    <tr>\n",
       "      <th>45328</th>\n",
       "      <td>DDInter1513</td>\n",
       "      <td>DDInter1377</td>\n",
       "      <td>6</td>\n",
       "    </tr>\n",
       "    <tr>\n",
       "      <th>150425</th>\n",
       "      <td>DDInter909</td>\n",
       "      <td>DDInter1513</td>\n",
       "      <td>6</td>\n",
       "    </tr>\n",
       "    <tr>\n",
       "      <th>45327</th>\n",
       "      <td>DDInter1513</td>\n",
       "      <td>DDInter1376</td>\n",
       "      <td>6</td>\n",
       "    </tr>\n",
       "    <tr>\n",
       "      <th>61135</th>\n",
       "      <td>DDInter1702</td>\n",
       "      <td>DDInter1513</td>\n",
       "      <td>6</td>\n",
       "    </tr>\n",
       "    <tr>\n",
       "      <th>45395</th>\n",
       "      <td>DDInter1513</td>\n",
       "      <td>DDInter1677</td>\n",
       "      <td>6</td>\n",
       "    </tr>\n",
       "    <tr>\n",
       "      <th>45396</th>\n",
       "      <td>DDInter1513</td>\n",
       "      <td>DDInter1678</td>\n",
       "      <td>6</td>\n",
       "    </tr>\n",
       "    <tr>\n",
       "      <th>45590</th>\n",
       "      <td>DDInter1513</td>\n",
       "      <td>DDInter785</td>\n",
       "      <td>6</td>\n",
       "    </tr>\n",
       "  </tbody>\n",
       "</table>\n",
       "</div>"
      ],
      "text/plain": [
       "        DDInterID_A  DDInterID_B  n\n",
       "45417   DDInter1513  DDInter1771  6\n",
       "10471   DDInter1120   DDInter885  6\n",
       "45394   DDInter1513  DDInter1676  6\n",
       "45328   DDInter1513  DDInter1377  6\n",
       "150425   DDInter909  DDInter1513  6\n",
       "45327   DDInter1513  DDInter1376  6\n",
       "61135   DDInter1702  DDInter1513  6\n",
       "45395   DDInter1513  DDInter1677  6\n",
       "45396   DDInter1513  DDInter1678  6\n",
       "45590   DDInter1513   DDInter785  6"
      ]
     },
     "metadata": {},
     "output_type": "display_data"
    }
   ],
   "source": [
    "# Show the top repeating pairs\n",
    "display(dupe_pairs.sort_values(\"n\", ascending=False).head(10))"
   ]
  },
  {
   "cell_type": "code",
   "execution_count": 12,
   "id": "9debe72e-bea9-4dc7-af15-2e015f743594",
   "metadata": {},
   "outputs": [
    {
     "name": "stdout",
     "output_type": "stream",
     "text": [
      "Found 6 rows for this pair:\n"
     ]
    },
    {
     "data": {
      "text/html": [
       "<div>\n",
       "<style scoped>\n",
       "    .dataframe tbody tr th:only-of-type {\n",
       "        vertical-align: middle;\n",
       "    }\n",
       "\n",
       "    .dataframe tbody tr th {\n",
       "        vertical-align: top;\n",
       "    }\n",
       "\n",
       "    .dataframe thead th {\n",
       "        text-align: right;\n",
       "    }\n",
       "</style>\n",
       "<table border=\"1\" class=\"dataframe\">\n",
       "  <thead>\n",
       "    <tr style=\"text-align: right;\">\n",
       "      <th></th>\n",
       "      <th>DDInterID_A</th>\n",
       "      <th>Drug_A</th>\n",
       "      <th>DDInterID_B</th>\n",
       "      <th>Drug_B</th>\n",
       "      <th>Level</th>\n",
       "      <th>category</th>\n",
       "      <th>category_desc</th>\n",
       "    </tr>\n",
       "  </thead>\n",
       "  <tbody>\n",
       "    <tr>\n",
       "      <th>36897</th>\n",
       "      <td>DDInter1513</td>\n",
       "      <td>Prednisolone</td>\n",
       "      <td>DDInter1771</td>\n",
       "      <td>Teriflunomide</td>\n",
       "      <td>Major</td>\n",
       "      <td>A</td>\n",
       "      <td>Alimentary tract &amp; metabolism</td>\n",
       "    </tr>\n",
       "    <tr>\n",
       "      <th>87684</th>\n",
       "      <td>DDInter1513</td>\n",
       "      <td>Prednisolone</td>\n",
       "      <td>DDInter1771</td>\n",
       "      <td>Teriflunomide</td>\n",
       "      <td>Major</td>\n",
       "      <td>D</td>\n",
       "      <td>Dermatologicals</td>\n",
       "    </tr>\n",
       "    <tr>\n",
       "      <th>105307</th>\n",
       "      <td>DDInter1513</td>\n",
       "      <td>Prednisolone</td>\n",
       "      <td>DDInter1771</td>\n",
       "      <td>Teriflunomide</td>\n",
       "      <td>Major</td>\n",
       "      <td>H</td>\n",
       "      <td>Systemic hormonal preps (excl. sex hormones &amp; ...</td>\n",
       "    </tr>\n",
       "    <tr>\n",
       "      <th>160424</th>\n",
       "      <td>DDInter1513</td>\n",
       "      <td>Prednisolone</td>\n",
       "      <td>DDInter1771</td>\n",
       "      <td>Teriflunomide</td>\n",
       "      <td>Major</td>\n",
       "      <td>L</td>\n",
       "      <td>Antineoplastic &amp; immunomodulating agents</td>\n",
       "    </tr>\n",
       "    <tr>\n",
       "      <th>200551</th>\n",
       "      <td>DDInter1513</td>\n",
       "      <td>Prednisolone</td>\n",
       "      <td>DDInter1771</td>\n",
       "      <td>Teriflunomide</td>\n",
       "      <td>Major</td>\n",
       "      <td>R</td>\n",
       "      <td>Respiratory system</td>\n",
       "    </tr>\n",
       "    <tr>\n",
       "      <th>218788</th>\n",
       "      <td>DDInter1513</td>\n",
       "      <td>Prednisolone</td>\n",
       "      <td>DDInter1771</td>\n",
       "      <td>Teriflunomide</td>\n",
       "      <td>Major</td>\n",
       "      <td>V</td>\n",
       "      <td>Various</td>\n",
       "    </tr>\n",
       "  </tbody>\n",
       "</table>\n",
       "</div>"
      ],
      "text/plain": [
       "        DDInterID_A        Drug_A  DDInterID_B         Drug_B  Level category  \\\n",
       "36897   DDInter1513  Prednisolone  DDInter1771  Teriflunomide  Major        A   \n",
       "87684   DDInter1513  Prednisolone  DDInter1771  Teriflunomide  Major        D   \n",
       "105307  DDInter1513  Prednisolone  DDInter1771  Teriflunomide  Major        H   \n",
       "160424  DDInter1513  Prednisolone  DDInter1771  Teriflunomide  Major        L   \n",
       "200551  DDInter1513  Prednisolone  DDInter1771  Teriflunomide  Major        R   \n",
       "218788  DDInter1513  Prednisolone  DDInter1771  Teriflunomide  Major        V   \n",
       "\n",
       "                                            category_desc  \n",
       "36897                       Alimentary tract & metabolism  \n",
       "87684                                     Dermatologicals  \n",
       "105307  Systemic hormonal preps (excl. sex hormones & ...  \n",
       "160424           Antineoplastic & immunomodulating agents  \n",
       "200551                                 Respiratory system  \n",
       "218788                                            Various  "
      ]
     },
     "metadata": {},
     "output_type": "display_data"
    }
   ],
   "source": [
    "# Example: check duplicate rows for the pair (1513,1771) in both directions\n",
    "pair_rows = df[\n",
    "    ((df[\"DDInterID_A\"] == \"DDInter1513\") & (df[\"DDInterID_B\"] == \"DDInter1771\"))\n",
    "    | ((df[\"DDInterID_A\"] == \"DDInter1771\") & (df[\"DDInterID_B\"] == \"DDInter1513\"))\n",
    "]\n",
    "\n",
    "print(f\"Found {len(pair_rows)} rows for this pair:\")\n",
    "display(pair_rows)"
   ]
  },
  {
   "cell_type": "code",
   "execution_count": 13,
   "id": "90623f03-213d-4824-96d3-451845edda85",
   "metadata": {},
   "outputs": [
    {
     "name": "stdout",
     "output_type": "stream",
     "text": [
      "Number of unique (A,B) pairs that have a flipped (B,A): 0\n"
     ]
    }
   ],
   "source": [
    "# Make a set of all (A,B) pairs\n",
    "pairs = set(zip(df[\"DDInterID_A\"], df[\"DDInterID_B\"]))\n",
    "\n",
    "# Find flipped pairs (A,B) where (B,A) also exists\n",
    "flipped = {(a, b) for (a, b) in pairs if (b, a) in pairs and a != b}\n",
    "\n",
    "print(\"Number of unique (A,B) pairs that have a flipped (B,A):\", len(flipped))"
   ]
  },
  {
   "cell_type": "markdown",
   "id": "62708531-0ff6-40b8-95b6-8c48bac0d039",
   "metadata": {},
   "source": [
    "No drug pairs recorded twice in opposite directions (e.g. (A,B) and (B,A)), only same-direction duplicates (the same (A,B) repeated across categories like A, D, H, etc.).\n",
    "\n",
    "==> No flipped duplicates, only repeated same-direction entries."
   ]
  },
  {
   "cell_type": "code",
   "execution_count": 14,
   "id": "18b8fd87-1fd8-414f-a1b1-7cebfed3b278",
   "metadata": {},
   "outputs": [
    {
     "name": "stdout",
     "output_type": "stream",
     "text": [
      "Same-direction pairs with inconsistent severity/category: 43826\n"
     ]
    },
    {
     "data": {
      "text/html": [
       "<div>\n",
       "<style scoped>\n",
       "    .dataframe tbody tr th:only-of-type {\n",
       "        vertical-align: middle;\n",
       "    }\n",
       "\n",
       "    .dataframe tbody tr th {\n",
       "        vertical-align: top;\n",
       "    }\n",
       "\n",
       "    .dataframe thead th {\n",
       "        text-align: right;\n",
       "    }\n",
       "</style>\n",
       "<table border=\"1\" class=\"dataframe\">\n",
       "  <thead>\n",
       "    <tr style=\"text-align: right;\">\n",
       "      <th></th>\n",
       "      <th>DDInterID_A</th>\n",
       "      <th>DDInterID_B</th>\n",
       "      <th>n_rows</th>\n",
       "      <th>n_severity</th>\n",
       "      <th>n_category</th>\n",
       "    </tr>\n",
       "  </thead>\n",
       "  <tbody>\n",
       "    <tr>\n",
       "      <th>0</th>\n",
       "      <td>DDInter1</td>\n",
       "      <td>DDInter1533</td>\n",
       "      <td>3</td>\n",
       "      <td>1</td>\n",
       "      <td>3</td>\n",
       "    </tr>\n",
       "    <tr>\n",
       "      <th>1</th>\n",
       "      <td>DDInter1</td>\n",
       "      <td>DDInter246</td>\n",
       "      <td>3</td>\n",
       "      <td>1</td>\n",
       "      <td>3</td>\n",
       "    </tr>\n",
       "    <tr>\n",
       "      <th>2</th>\n",
       "      <td>DDInter1</td>\n",
       "      <td>DDInter513</td>\n",
       "      <td>4</td>\n",
       "      <td>1</td>\n",
       "      <td>4</td>\n",
       "    </tr>\n",
       "    <tr>\n",
       "      <th>3</th>\n",
       "      <td>DDInter1</td>\n",
       "      <td>DDInter766</td>\n",
       "      <td>2</td>\n",
       "      <td>1</td>\n",
       "      <td>2</td>\n",
       "    </tr>\n",
       "    <tr>\n",
       "      <th>4</th>\n",
       "      <td>DDInter10</td>\n",
       "      <td>DDInter246</td>\n",
       "      <td>3</td>\n",
       "      <td>1</td>\n",
       "      <td>3</td>\n",
       "    </tr>\n",
       "    <tr>\n",
       "      <th>5</th>\n",
       "      <td>DDInter1001</td>\n",
       "      <td>DDInter1106</td>\n",
       "      <td>2</td>\n",
       "      <td>1</td>\n",
       "      <td>2</td>\n",
       "    </tr>\n",
       "    <tr>\n",
       "      <th>6</th>\n",
       "      <td>DDInter1001</td>\n",
       "      <td>DDInter1638</td>\n",
       "      <td>2</td>\n",
       "      <td>1</td>\n",
       "      <td>2</td>\n",
       "    </tr>\n",
       "    <tr>\n",
       "      <th>7</th>\n",
       "      <td>DDInter1001</td>\n",
       "      <td>DDInter1649</td>\n",
       "      <td>2</td>\n",
       "      <td>1</td>\n",
       "      <td>2</td>\n",
       "    </tr>\n",
       "    <tr>\n",
       "      <th>8</th>\n",
       "      <td>DDInter1001</td>\n",
       "      <td>DDInter1700</td>\n",
       "      <td>2</td>\n",
       "      <td>1</td>\n",
       "      <td>2</td>\n",
       "    </tr>\n",
       "    <tr>\n",
       "      <th>9</th>\n",
       "      <td>DDInter1001</td>\n",
       "      <td>DDInter1715</td>\n",
       "      <td>2</td>\n",
       "      <td>1</td>\n",
       "      <td>2</td>\n",
       "    </tr>\n",
       "  </tbody>\n",
       "</table>\n",
       "</div>"
      ],
      "text/plain": [
       "   DDInterID_A  DDInterID_B  n_rows  n_severity  n_category\n",
       "0     DDInter1  DDInter1533       3           1           3\n",
       "1     DDInter1   DDInter246       3           1           3\n",
       "2     DDInter1   DDInter513       4           1           4\n",
       "3     DDInter1   DDInter766       2           1           2\n",
       "4    DDInter10   DDInter246       3           1           3\n",
       "5  DDInter1001  DDInter1106       2           1           2\n",
       "6  DDInter1001  DDInter1638       2           1           2\n",
       "7  DDInter1001  DDInter1649       2           1           2\n",
       "8  DDInter1001  DDInter1700       2           1           2\n",
       "9  DDInter1001  DDInter1715       2           1           2"
      ]
     },
     "metadata": {},
     "output_type": "display_data"
    }
   ],
   "source": [
    "# Find pairs where severity or category disagrees across rows\n",
    "inconsistent = (\n",
    "    pair_dupe_rows.groupby([\"DDInterID_A\", \"DDInterID_B\"])\n",
    "    .agg(\n",
    "        n_rows=(\"Level\", \"size\"),\n",
    "        n_severity=(\"Level\", \"nunique\"),\n",
    "        n_category=(\"category\", \"nunique\"),\n",
    "    )\n",
    "    .query(\"n_severity > 1 or n_category > 1\")\n",
    "    .reset_index()\n",
    ")\n",
    "\n",
    "print(\"Same-direction pairs with inconsistent severity/category:\", len(inconsistent))\n",
    "display(inconsistent.head(10))"
   ]
  },
  {
   "cell_type": "code",
   "execution_count": 15,
   "id": "8eef18a0-3ce5-404b-a7d7-d25eb29e6478",
   "metadata": {},
   "outputs": [
    {
     "name": "stdout",
     "output_type": "stream",
     "text": [
      "Found 3 rows for this pair:\n"
     ]
    },
    {
     "data": {
      "text/html": [
       "<div>\n",
       "<style scoped>\n",
       "    .dataframe tbody tr th:only-of-type {\n",
       "        vertical-align: middle;\n",
       "    }\n",
       "\n",
       "    .dataframe tbody tr th {\n",
       "        vertical-align: top;\n",
       "    }\n",
       "\n",
       "    .dataframe thead th {\n",
       "        text-align: right;\n",
       "    }\n",
       "</style>\n",
       "<table border=\"1\" class=\"dataframe\">\n",
       "  <thead>\n",
       "    <tr style=\"text-align: right;\">\n",
       "      <th></th>\n",
       "      <th>DDInterID_A</th>\n",
       "      <th>Drug_A</th>\n",
       "      <th>DDInterID_B</th>\n",
       "      <th>Drug_B</th>\n",
       "      <th>Level</th>\n",
       "      <th>category</th>\n",
       "      <th>category_desc</th>\n",
       "    </tr>\n",
       "  </thead>\n",
       "  <tbody>\n",
       "    <tr>\n",
       "      <th>95158</th>\n",
       "      <td>DDInter1</td>\n",
       "      <td>Abacavir</td>\n",
       "      <td>DDInter1533</td>\n",
       "      <td>Promethazine</td>\n",
       "      <td>Unknown</td>\n",
       "      <td>D</td>\n",
       "      <td>Dermatologicals</td>\n",
       "    </tr>\n",
       "    <tr>\n",
       "      <th>208486</th>\n",
       "      <td>DDInter1</td>\n",
       "      <td>Abacavir</td>\n",
       "      <td>DDInter1533</td>\n",
       "      <td>Promethazine</td>\n",
       "      <td>Unknown</td>\n",
       "      <td>R</td>\n",
       "      <td>Respiratory system</td>\n",
       "    </tr>\n",
       "    <tr>\n",
       "      <th>221586</th>\n",
       "      <td>DDInter1</td>\n",
       "      <td>Abacavir</td>\n",
       "      <td>DDInter1533</td>\n",
       "      <td>Promethazine</td>\n",
       "      <td>Unknown</td>\n",
       "      <td>V</td>\n",
       "      <td>Various</td>\n",
       "    </tr>\n",
       "  </tbody>\n",
       "</table>\n",
       "</div>"
      ],
      "text/plain": [
       "       DDInterID_A    Drug_A  DDInterID_B        Drug_B    Level category  \\\n",
       "95158     DDInter1  Abacavir  DDInter1533  Promethazine  Unknown        D   \n",
       "208486    DDInter1  Abacavir  DDInter1533  Promethazine  Unknown        R   \n",
       "221586    DDInter1  Abacavir  DDInter1533  Promethazine  Unknown        V   \n",
       "\n",
       "             category_desc  \n",
       "95158      Dermatologicals  \n",
       "208486  Respiratory system  \n",
       "221586             Various  "
      ]
     },
     "metadata": {},
     "output_type": "display_data"
    }
   ],
   "source": [
    "# Example\n",
    "pair_rows = df[\n",
    "    ((df[\"DDInterID_A\"] == \"DDInter1\") & (df[\"DDInterID_B\"] == \"DDInter1533\"))\n",
    "    | ((df[\"DDInterID_A\"] == \"DDInter1533\") & (df[\"DDInterID_B\"] == \"DDInter1\"))\n",
    "]\n",
    "\n",
    "print(f\"Found {len(pair_rows)} rows for this pair:\")\n",
    "display(pair_rows)"
   ]
  },
  {
   "cell_type": "code",
   "execution_count": 16,
   "id": "2e7d8715-0c4d-46ce-bbc4-98677c82cab6",
   "metadata": {},
   "outputs": [
    {
     "name": "stdout",
     "output_type": "stream",
     "text": [
      "Duplicate pairs with inconsistent severity: 0\n"
     ]
    },
    {
     "data": {
      "text/html": [
       "<div>\n",
       "<style scoped>\n",
       "    .dataframe tbody tr th:only-of-type {\n",
       "        vertical-align: middle;\n",
       "    }\n",
       "\n",
       "    .dataframe tbody tr th {\n",
       "        vertical-align: top;\n",
       "    }\n",
       "\n",
       "    .dataframe thead th {\n",
       "        text-align: right;\n",
       "    }\n",
       "</style>\n",
       "<table border=\"1\" class=\"dataframe\">\n",
       "  <thead>\n",
       "    <tr style=\"text-align: right;\">\n",
       "      <th></th>\n",
       "      <th>DDInterID_A</th>\n",
       "      <th>DDInterID_B</th>\n",
       "      <th>n_severity</th>\n",
       "    </tr>\n",
       "  </thead>\n",
       "  <tbody>\n",
       "  </tbody>\n",
       "</table>\n",
       "</div>"
      ],
      "text/plain": [
       "Empty DataFrame\n",
       "Columns: [DDInterID_A, DDInterID_B, n_severity]\n",
       "Index: []"
      ]
     },
     "metadata": {},
     "output_type": "display_data"
    }
   ],
   "source": [
    "# Check if duplicate pairs have inconsistent severity\n",
    "sev_inconsistent = (\n",
    "    df.groupby([\"DDInterID_A\", \"DDInterID_B\"])[\"Level\"]\n",
    "    .nunique()\n",
    "    .reset_index(name=\"n_severity\")\n",
    "    .query(\"n_severity > 1\")\n",
    ")\n",
    "\n",
    "print(\"Duplicate pairs with inconsistent severity:\", len(sev_inconsistent))\n",
    "display(sev_inconsistent.head(10))"
   ]
  },
  {
   "attachments": {
    "e116aacc-15ad-41df-840e-81bffceef018.png": {
     "image/png": "[encoded data removed]"
    }
   },
   "cell_type": "markdown",
   "id": "6930b7f5-fc64-48d5-ab27-3b306c9568f8",
   "metadata": {},
   "source": [
    "Here’s our **integrated summary** after EDA:\n",
    "\n",
    "- Our dataset has **no missing values**.\n",
    "- There are **no flipped duplicates** (A–B vs B–A).\n",
    "- Many drug names include **special characters** or extra details (formulations, routes, isotopes, salts), so we need **LIKE % matching** in SQL for consistency.\n",
    "- Some drug pairs repeat, but they always have **consistent severity**.\n",
    "    - These repeats come from being annotated across **multiple categories**, which is **valid and useful** information to preserve (e.g., same interaction noted in different therapeutic domains).\n",
    "    - So, instead of dropping them, we merge the categories into the final JSON for the LLM.\n",
    "\n",
    "Example payload to send:\n",
    "\n",
    "![image.png](attachment:e116aacc-15ad-41df-840e-81bffceef018.png)"
   ]
  }
 ],
 "metadata": {
  "kernelspec": {
   "display_name": "Python 3 (ipykernel)",
   "language": "python",
   "name": "python3"
  },
  "language_info": {
   "codemirror_mode": {
    "name": "ipython",
    "version": 3
   },
   "file_extension": ".py",
   "mimetype": "text/x-python",
   "name": "python",
   "nbconvert_exporter": "python",
   "pygments_lexer": "ipython3",
   "version": "3.11.6"
  }
 },
 "nbformat": 4,
 "nbformat_minor": 5
}
